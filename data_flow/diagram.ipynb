{
 "cells": [
  {
   "cell_type": "markdown",
   "metadata": {},
   "source": [
    "# RDS連線"
   ]
  },
  {
   "cell_type": "markdown",
   "metadata": {},
   "source": [
    "# 架構圖"
   ]
  },
  {
   "cell_type": "code",
   "execution_count": 7,
   "metadata": {},
   "outputs": [],
   "source": [
    "from diagrams import Diagram, Cluster, Node, Edge\n",
    "from diagrams.aws.database import RDS\n",
    "from diagrams.aws.migration import DMS\n",
    "from diagrams.aws.analytics import KinesisDataStreams, Glue, Kinesis, KinesisDataFirehose\n",
    "from diagrams.aws.storage import S3\n",
    "from diagrams.aws.compute import Lambda, ECS, EKS, ElasticBeanstalk\n",
    "from diagrams.aws.integration import SNS, SQS, Eventbridge, StepFunctions\n",
    "from diagrams.aws.network import APIGateway, VPC\n",
    "from diagrams.aws.ml import *\n",
    "from diagrams.onprem.client import User, Users\n",
    "from diagrams.generic.device import Mobile,Tablet\n",
    "# 設定字體大小 (fontsize)\n",
    "graph_attr = {\n",
    "    \"fontsize\": \"18\"  # 整體圖的字體大小\n",
    "}\n",
    "\n",
    "node_attr = {\n",
    "    \"fontsize\": \"14\"  # 節點的字體大小\n",
    "}\n",
    "\n",
    "edge_attr = {\n",
    "    \"fontsize\": \"14\"  # 邊線的字體大小 (如果有邊線標籤)\n",
    "}\n",
    "with Diagram(\"\",\n",
    "              show=False, \n",
    "              filename=\"data_architecture\", \n",
    "              direction=\"LR\", \n",
    "              graph_attr=graph_attr, \n",
    "              node_attr=node_attr, \n",
    "              edge_attr=edge_attr):\n",
    "    with Cluster(\"CDC\"):\n",
    "        # RDS 資料來源\n",
    "        rds = RDS(\"PostgreSQL\")\n",
    "        # DMS 監控 RDS\n",
    "        dms = DMS(\"DMS\")\n",
    "\n",
    "    # Kinesis & Lambda \n",
    "    with Cluster(\"Streaming Processing\"):\n",
    "        kinesis_stream = KinesisDataStreams(\"Kinesis Streaming\")\n",
    "        kinesis_firehose = KinesisDataFirehose(\"Firehose Streaming\")\n",
    "        lambda_func = Lambda(\"Lambda\")\n",
    "    # API Gateway 與 SNS\n",
    "    api_gateway = APIGateway(\"API Gateway\")\n",
    "    rds >> kinesis_stream >> kinesis_firehose\n",
    "    kinesis_firehose >> lambda_func >> api_gateway"
   ]
  },
  {
   "cell_type": "code",
   "execution_count": null,
   "metadata": {},
   "outputs": [],
   "source": []
  }
 ],
 "metadata": {
  "kernelspec": {
   "display_name": "Python 3",
   "language": "python",
   "name": "python3"
  },
  "language_info": {
   "codemirror_mode": {
    "name": "ipython",
    "version": 3
   },
   "file_extension": ".py",
   "mimetype": "text/x-python",
   "name": "python",
   "nbconvert_exporter": "python",
   "pygments_lexer": "ipython3",
   "version": "3.11.3"
  }
 },
 "nbformat": 4,
 "nbformat_minor": 2
}
