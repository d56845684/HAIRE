{
 "cells": [
  {
   "cell_type": "markdown",
   "metadata": {},
   "source": [
    "# RDS連線"
   ]
  },
  {
   "cell_type": "code",
   "execution_count": null,
   "metadata": {},
   "outputs": [],
   "source": [
    "import psycopg2\n",
    "import random\n",
    "import string\n",
    "from faker import Faker"
   ]
  },
  {
   "cell_type": "code",
   "execution_count": null,
   "metadata": {},
   "outputs": [],
   "source": [
    "\n",
    "\n",
    "# 設定 PostgreSQL 連線資訊\n",
    "DB_HOST = \"pg-cdc-instance.cxkm6uu604v9.ap-northeast-1.rds.amazonaws.com\"  # 例如 \"localhost\" 或 RDS 端點\n",
    "DB_NAME = \"cdc_db\"\n",
    "DB_USER = \"HAIRE\"\n",
    "DB_PASSWORD = \"834rg02sdflk\"\n",
    "DB_PORT = 5432  # PostgreSQL 預設 Port\n",
    "# 初始化 Faker\n",
    "fake = Faker()\n",
    "# 產生隨機資料\n",
    "def generate_random_user():\n",
    "    username = \"\".join(random.choices(string.ascii_letters + string.digits, k=5)) + fake.user_name()\n",
    "    email = \"\".join(random.choices(string.ascii_letters + string.digits, k=10)) + fake.email()\n",
    "    password_hash = \"\".join(random.choices(string.ascii_letters + string.digits, k=20))  # 產生隨機 20 位的雜湊密碼\n",
    "    phone = fake.phone_number()[0:20]\n",
    "    address = fake.address().replace(\"\\n\", \", \")  # PostgreSQL 儲存時避免換行\n",
    "    return (username, email, password_hash, phone, address)\n",
    "\n",
    "# 連接 PostgreSQL\n",
    "def insert_random_users(n=1):\n",
    "    try:\n",
    "        conn = psycopg2.connect(\n",
    "            host=DB_HOST,\n",
    "            database=DB_NAME,\n",
    "            user=DB_USER,\n",
    "            password=DB_PASSWORD,\n",
    "            port=DB_PORT\n",
    "        )\n",
    "        cursor = conn.cursor()\n",
    "\n",
    "        # 插入 N 筆隨機資料\n",
    "        for _ in range(n):\n",
    "            user_data = generate_random_user()\n",
    "            cursor.execute(\"\"\"\n",
    "                INSERT INTO users (username, email, password_hash, phone, address)\n",
    "                VALUES (%s, %s, %s, %s, %s);\n",
    "            \"\"\", user_data)\n",
    "\n",
    "        conn.commit()\n",
    "        print(f\"✅ 成功插入 {n} 筆測試資料！\")\n",
    "\n",
    "    except Exception as e:\n",
    "        print(f\"❌ 錯誤: {e}\")\n",
    "\n",
    "    finally:\n",
    "        cursor.close()\n",
    "        conn.close()\n",
    "\n",
    "# 執行插入 10 筆測試資料\n",
    "if __name__ == \"__main__\":\n",
    "    for _ in range(2):\n",
    "        insert_random_users(2)"
   ]
  },
  {
   "cell_type": "markdown",
   "metadata": {},
   "source": [
    "# 架構圖"
   ]
  },
  {
   "cell_type": "code",
   "execution_count": null,
   "metadata": {},
   "outputs": [],
   "source": [
    "from diagrams import Diagram, Cluster, Node, Edge\n",
    "from diagrams.aws.database import RDS\n",
    "from diagrams.aws.migration import DMS\n",
    "from diagrams.aws.analytics import KinesisDataStreams, Glue, Kinesis, KinesisDataFirehose\n",
    "from diagrams.aws.storage import S3\n",
    "from diagrams.aws.compute import Lambda, ECS, EKS, ElasticBeanstalk\n",
    "from diagrams.aws.integration import SNS, SQS, Eventbridge, StepFunctions\n",
    "from diagrams.aws.network import APIGateway, VPC\n",
    "from diagrams.aws.ml import *\n",
    "from diagrams.onprem.client import User, Users\n",
    "from diagrams.generic.device import Mobile,Tablet\n",
    "# 設定字體大小 (fontsize)\n",
    "graph_attr = {\n",
    "    \"fontsize\": \"18\"  # 整體圖的字體大小\n",
    "}\n",
    "\n",
    "node_attr = {\n",
    "    \"fontsize\": \"14\"  # 節點的字體大小\n",
    "}\n",
    "\n",
    "edge_attr = {\n",
    "    \"fontsize\": \"14\"  # 邊線的字體大小 (如果有邊線標籤)\n",
    "}\n",
    "with Diagram(\"\",\n",
    "              show=False, \n",
    "              filename=\"data_architecture\", \n",
    "              direction=\"LR\", \n",
    "              graph_attr=graph_attr, \n",
    "              node_attr=node_attr, \n",
    "              edge_attr=edge_attr):\n",
    "    with Cluster(\"CDC\"):\n",
    "        # RDS 資料來源\n",
    "        rds = RDS(\"PostgreSQL\")\n",
    "        # DMS 監控 RDS\n",
    "        dms = DMS(\"DMS\")\n",
    "\n",
    "    # Kinesis & Lambda \n",
    "    with Cluster(\"Streaming Processing\"):\n",
    "        kinesis_stream = KinesisDataStreams(\"Kinesis Streaming\")\n",
    "        kinesis_firehose = KinesisDataFirehose(\"Firehose Streaming\")\n",
    "        s3_upload_event = Eventbridge(\"Upoload_events\")\n",
    "        s3_store = S3(\"S3\")\n",
    "        lambda_func = Lambda(\"Lambda\")\n",
    "    rds >> kinesis_stream >> kinesis_firehose\n",
    "    kinesis_firehose >> s3_store >> s3_upload_event >> lambda_func"
   ]
  },
  {
   "cell_type": "markdown",
   "metadata": {},
   "source": [
    "# 轉換成標準json格式"
   ]
  },
  {
   "cell_type": "code",
   "execution_count": null,
   "metadata": {},
   "outputs": [],
   "source": [
    "import json\n",
    "path = \"\"\n",
    "with open(path, 'r', encoding='utf-8') as file:\n",
    "    content = file.read()\n",
    "\n",
    "# 每個 JSON 物件之間有換行符號隔開時可這樣做：\n",
    "raw_jsons = content.strip().split('\\n}\\n{')\n",
    "\n",
    "json_objects = []\n",
    "for index, json_str in enumerate(raw_jsons):\n",
    "    try:\n",
    "        json_str = json.loads(json.dumps(json_str.strip()))\n",
    "        json_str = json_str.replace(\"\\n\", \"\").replace(\"\\t\", \"\")\n",
    "        if json_str[0] != \"{\":\n",
    "            json_str = \"{\" + json_str.strip()\n",
    "        if \"}}\" not in json_str:\n",
    "            json_str += \"}\"\n",
    "        json_data = json.loads(json_str)\n",
    "        json_objects.append(json_data)\n",
    "    except Exception as e:\n",
    "        print(index)\n",
    "# 儲存成標準 JSON 陣列格式\n",
    "with open('output.json', 'w', encoding='utf-8') as f:\n",
    "    json.dump(json_objects, f, ensure_ascii=False, indent=4)\n",
    "\n"
   ]
  },
  {
   "cell_type": "code",
   "execution_count": null,
   "metadata": {},
   "outputs": [],
   "source": []
  }
 ],
 "metadata": {
  "kernelspec": {
   "display_name": "Python 3",
   "language": "python",
   "name": "python3"
  },
  "language_info": {
   "codemirror_mode": {
    "name": "ipython",
    "version": 3
   },
   "file_extension": ".py",
   "mimetype": "text/x-python",
   "name": "python",
   "nbconvert_exporter": "python",
   "pygments_lexer": "ipython3",
   "version": "3.11.3"
  }
 },
 "nbformat": 4,
 "nbformat_minor": 2
}
